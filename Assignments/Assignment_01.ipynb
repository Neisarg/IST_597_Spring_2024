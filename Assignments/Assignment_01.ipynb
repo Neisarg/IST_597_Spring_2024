{
  "nbformat": 4,
  "nbformat_minor": 0,
  "metadata": {
    "colab": {
      "provenance": []
    },
    "kernelspec": {
      "name": "python3",
      "display_name": "Python 3"
    },
    "language_info": {
      "name": "python"
    }
  },
  "cells": [
    {
      "cell_type": "markdown",
      "source": [
        "<h1><center>IST 597 Foundations of Deep Learning</center></h1>\n",
        "\n",
        "---\n",
        "\n",
        "<h2><center>Assignment 01</center><h2>\n",
        "\n",
        "**Instructor** : Dr. C. Lee Giles <br>\n",
        "**TA** : Neisarg Dave\n",
        "<br><br>\n",
        "\n",
        "Credits: Thanks and credits to materials from UCL and GeorgiaTech\n",
        "\n",
        "<h3>Course Policy<h3>\n",
        "\n",
        "Carefully read all the instructions, before you start working on the assignment\n",
        "\n",
        "* Give maximum explanation for each sub-problems.\n",
        "\n",
        "* Assignments are due before class at 12:59 pm. Please check the due date on Canvas.\n",
        "\n",
        "* Please avoid single line answers, submissions without any explanations would receive 0 points.\n",
        "\n",
        "* Late exercises will receive 50% credit for the first 24 hours and no credit after that time.\n",
        "\n",
        "* All exercise solutions must be turned in, even if late.\n",
        "Failure to do so can result in a deferred grade.\n",
        "\n",
        "* All source materials must be cited. The University Academic Code of Conduct will be strictly enforced.\n",
        "\n",
        "* We will be creating Canvas submission page for this. Submit all files on Canvas.\n",
        "\n",
        "* All queries related to Assignment should have a subject line *IST597:Assignment_01 Queries*\n",
        "\n",
        "---\n",
        "\n"
      ],
      "metadata": {
        "id": "FU6cmR_6HtW0"
      }
    },
    {
      "cell_type": "code",
      "source": [
        "#@\n",
        "Name = \"\"#@param {type:\"string\"}\n",
        "PSU_ID = \"\"#@param {type:\"string\"}"
      ],
      "metadata": {
        "cellView": "form",
        "id": "0FsSyWIwJTK9"
      },
      "execution_count": null,
      "outputs": []
    },
    {
      "cell_type": "markdown",
      "source": [
        "### Problem 1\n",
        "--------------\n",
        "##### 1 marks\n",
        "\n",
        "\n",
        "Let $ \\ T:\\mathbb{R}^3 \\rightarrow \\mathbb{R}^4$ be defined by \\\n",
        "$$ Tx = \\begin{bmatrix}\n",
        "x_1 - 5x_2 + 5x_3 \\\\\n",
        "5x_1 + 2x_2 - 10x_3 \\\\\n",
        "-5x_1-8x_2 + 6x_3 \\\\\n",
        "3x_2 - 2x_3\n",
        "\\end{bmatrix} $$\n",
        "\n",
        "for every $x = \\begin{bmatrix} x_1 \\\\ x_2 \\\\ x_3 \\end{bmatrix} \\in \\mathbb{R}^3$ Then,\n"
      ],
      "metadata": {
        "id": "3lammv9QCr78"
      }
    },
    {
      "cell_type": "markdown",
      "source": [
        "1) Write $\\ T$ in matrix form.\n"
      ],
      "metadata": {
        "id": "aqo0DGm6EWHr"
      }
    },
    {
      "cell_type": "markdown",
      "source": [
        "*answer* :"
      ],
      "metadata": {
        "id": "L0sXsjp9EpEh"
      }
    },
    {
      "cell_type": "markdown",
      "source": [
        "2) $T(-1, 3, 2)$"
      ],
      "metadata": {
        "id": "XOVN3ALeEwYi"
      }
    },
    {
      "cell_type": "markdown",
      "source": [
        "*answer* :"
      ],
      "metadata": {
        "id": "nBCQL-VbE6Nw"
      }
    },
    {
      "cell_type": "markdown",
      "source": [
        "3) Is $\\ T$ linear? Why ?"
      ],
      "metadata": {
        "id": "YtcEV5PAFQrj"
      }
    },
    {
      "cell_type": "markdown",
      "source": [
        "*answer* :"
      ],
      "metadata": {
        "id": "eR-jjYPxFXqY"
      }
    },
    {
      "cell_type": "markdown",
      "source": [
        "### Problem 2\n",
        "--------------\n",
        "##### 2 marks\n",
        "\n",
        "Consider the following function of $x = (x1, x2, x3, x4, x5, x6)$:\n",
        "\n",
        "$$\n",
        "f(x) = \\sigma \\Big(\\log \\Big(3  \\Big(max\\{x_1, x_2\\}.\\frac{x_3}{x_4} - (x_5+x_6 - x_1) \\Big) \\Big) + \\frac{1}{2} \\Big)\n",
        "$$\n",
        "\n",
        "where $\\sigma$ is the sigmoid function\n",
        "\n",
        "$$\n",
        "  \\sigma(x) = \\frac{1}{1+e^{-x}}\n",
        "$$\n",
        "\n",
        "Compute the gradient $\\nabla_x f$ and evaluate it at $x = (-1, 3, 4, 5, -5, 7)$"
      ],
      "metadata": {
        "id": "Sb0w8cl1FhqG"
      }
    },
    {
      "cell_type": "markdown",
      "source": [
        "*answer* :"
      ],
      "metadata": {
        "id": "xiqJ5588IQy0"
      }
    },
    {
      "cell_type": "markdown",
      "source": [
        "### Problem 3\n",
        "-------------\n",
        "##### 1 mark"
      ],
      "metadata": {
        "id": "0WLNOvtEIXyZ"
      }
    },
    {
      "cell_type": "markdown",
      "source": [
        "$a = [ 9,  8, 15, 17, 14,  2, 15,  7, 12,  1,  5,  1,  8, 16,  3, 15,  8, 15,  3,  5] $\n",
        "\n",
        "Get all items in range $(5, 10]$ from $a$\n",
        "\n",
        "Note: Use only indexing methods, do not use iteration or if conditions"
      ],
      "metadata": {
        "id": "XiFdZ9UAJFLa"
      }
    },
    {
      "cell_type": "code",
      "source": [
        "import numpy as np\n",
        "## write your code under this line:\n",
        "#----------------------------------"
      ],
      "metadata": {
        "id": "Vb2kvO7iJNb2"
      },
      "execution_count": null,
      "outputs": []
    },
    {
      "cell_type": "markdown",
      "source": [
        "### Problem 4\n",
        "--------------\n",
        "##### 2 marks\n",
        "\n"
      ],
      "metadata": {
        "id": "1PSNy_wOKNx1"
      }
    },
    {
      "cell_type": "markdown",
      "source": [
        "1) Initialize numpy random module with seed $42$ and sample a vector $x$ of shape $[10, 1]$ and a matrix $W$ of shape $[10, 8]$"
      ],
      "metadata": {
        "id": "G9MqsESFMIwM"
      }
    },
    {
      "cell_type": "code",
      "source": [
        "## write your code under this line:\n",
        "#----------------------------------"
      ],
      "metadata": {
        "id": "HwuNRK5ZKxuJ"
      },
      "execution_count": null,
      "outputs": []
    },
    {
      "cell_type": "markdown",
      "source": [
        "2) $z = x^TW$"
      ],
      "metadata": {
        "id": "PS1L_4-fMlcq"
      }
    },
    {
      "cell_type": "code",
      "source": [
        "## write your code under this line:\n",
        "#----------------------------------"
      ],
      "metadata": {
        "id": "tfVfn_AeMEz6"
      },
      "execution_count": null,
      "outputs": []
    },
    {
      "cell_type": "markdown",
      "source": [
        "3) Write a function softmax:\n",
        "$$\n",
        "  softmax(x)_i = \\frac{e^{x_i}}{\\sum_j e^{x_j}}\n",
        "$$\n"
      ],
      "metadata": {
        "id": "P7gytEuzM9wm"
      }
    },
    {
      "cell_type": "code",
      "source": [
        "def softmax(x):\n",
        "  # x is a numpy array of length 3\n",
        "  ## write your code under this line:\n",
        "  #----------------------------------\n",
        "\n",
        "\n",
        "  res = None\n",
        "  return res  # return correct result\n",
        "\n",
        "\n"
      ],
      "metadata": {
        "id": "AdrEij6EMFr5"
      },
      "execution_count": null,
      "outputs": []
    },
    {
      "cell_type": "markdown",
      "source": [
        "4) compute $softmax(z)$ :"
      ],
      "metadata": {
        "id": "ABBYBoNTOdek"
      }
    },
    {
      "cell_type": "code",
      "source": [
        "## write your code under this line:\n",
        "#----------------------------------"
      ],
      "metadata": {
        "id": "a58yF-4zOgHp"
      },
      "execution_count": null,
      "outputs": []
    },
    {
      "cell_type": "markdown",
      "source": [
        "----------------------------"
      ],
      "metadata": {
        "id": "-7ktHv4MOkwn"
      }
    }
  ]
}