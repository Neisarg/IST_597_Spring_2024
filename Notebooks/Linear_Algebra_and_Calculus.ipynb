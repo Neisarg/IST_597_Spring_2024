{
  "nbformat": 4,
  "nbformat_minor": 0,
  "metadata": {
    "colab": {
      "provenance": []
    },
    "kernelspec": {
      "name": "python3",
      "display_name": "Python 3"
    },
    "language_info": {
      "name": "python"
    }
  },
  "cells": [
    {
      "cell_type": "markdown",
      "source": [
        "<h1><center>IST 597 Foundations of Deep Learning</center></h1>\n",
        "\n",
        "---\n",
        "\n",
        "<h2><center>Concepts in Linear Algebra and Calculus</center><h2>\n",
        "<h3><center>Neisarg Dave</center><h3>"
      ],
      "metadata": {
        "id": "hvl9Y9iFFhjg"
      }
    },
    {
      "cell_type": "markdown",
      "source": [
        "## Linear Algebra"
      ],
      "metadata": {
        "id": "OwBsTKuJPck0"
      }
    },
    {
      "cell_type": "markdown",
      "source": [
        "## Monoid\n",
        "Monoid is an algebraic structure of a set $S$ with a binary operation $*$ which satisfies:\n",
        "+ **Closure** \\\\\n",
        "  $\\forall a, b \\in S, a * b \\in S$\n",
        "+ **Associativity** \\\\\n",
        "  $\\forall a, b, c \\in S, a*(b*c) = (a * b)*c$\n",
        "+ **Identity Element** \\\\\n",
        "  $ \\exists e \\in S, s.t. \\forall a \\in S, \\ a*e = a = e*a$\n",
        "\n",
        "\\\\\n",
        "**Example:** *Binary strings under concatenation*"
      ],
      "metadata": {
        "id": "YSw0AF-2TH9a"
      }
    },
    {
      "cell_type": "markdown",
      "source": [
        "### Group\n",
        " A group is a non empty set $G$ with a binary operation $*$ such that $\\forall a, b, c \\in G$\n",
        " + **Closure** \\\\\n",
        "  $\\forall a, b \\in G, \\ a*b \\in G$\n",
        " + **Associativity** \\\\\n",
        "  $(a*b)*c = a*(b*c)$\n",
        " + **Identity element** \\\\\n",
        "  $e \\in G$ s.t. $a*e = a = e*a$\n",
        " + **Inverse Element** \\\\\n",
        "  $a^{-1} \\in G$ s.t. $a^{-1} * a = a*a^{-1}=a $\n",
        "\n",
        "  **Example** : *Invertible matrices under multiplication*"
      ],
      "metadata": {
        "id": "Mp5TvBapMz03"
      }
    },
    {
      "cell_type": "markdown",
      "source": [
        "###Abelian Group\n",
        "Abelian groub is a group that satisfies commutativity.\n",
        "\n",
        "$\\forall a, b \\in G \\ a*b = b*a$\n",
        "\n",
        "**Example**: *Integers modulo* $n\\  (\\mathbb{Z} /n\\mathbb{Z})$ *under addition*\n",
        "\n"
      ],
      "metadata": {
        "id": "u_uYLtPzM2f2"
      }
    },
    {
      "cell_type": "markdown",
      "source": [
        "### Vector Space\n",
        "\n",
        "A vector space is a set $V$ with two opeations $+$ and $*$ which satisfy:\n",
        "1. **Closure**:  \\\\\n",
        "  (i) $\\forall \\ u, v \\in V$, $u + v \\in V$ \\\\\n",
        "  (ii)  $\\forall \\ u, v \\in V$, $u * v \\in V$\n",
        "2. **Associativity of Addition** \\\\\n",
        "  $\\forall \\ u, v, w \\in V \\quad u+(v+w) = (u+v)+ w$\n",
        "3. **Communtativity of Addition** \\\\\n",
        "  $\\forall \\ u,v \\in V \\quad u+v = v+u$\n",
        "4. **Additive Identity** \\\\\n",
        "  $0, v \\in V \\ s.t. \\ v + 0 = v $\n",
        "5. **Additive Inverse** \\\\\n",
        "  $\\forall v \\in V, -v \\in V \\ v + (-v) = 0 $\n",
        "6. **Multiplicative Identity**: \\\\\n",
        "  $1, v \\in V \\ 1*v = v$ \\\\\n",
        "7. **Compatibility of Scalar Multiplication with Field Multiplication** \\\\\n",
        "  $\\forall v \\in V \\ a(bv) = (ab)v$\n",
        "8. **Distributive Law** \\\\\n",
        "  $\\forall u, v \\in V$ \\\\\n",
        "  (i) $a(u + v) = au + av$ \\\\\n",
        "  (ii) $(a + b)v = av + bv$\n",
        "\n",
        "\n",
        "**Example :** *Coordinate space*\n"
      ],
      "metadata": {
        "id": "4tnImQUgFt_r"
      }
    },
    {
      "cell_type": "markdown",
      "source": [
        "### Topological Space\n",
        "A topological space is a set $X$ with mapping  $N$ such that $\\forall x \\in X$, $N(x) ⊆ X$ is called neighborhood of $X$  \n",
        "\n"
      ],
      "metadata": {
        "id": "DL4LPqluPQ-w"
      }
    },
    {
      "cell_type": "markdown",
      "source": [
        "### Metric Space\n",
        "A metric space is a set $M$ and a metric (mapping) $d: M \\times M → \\mathbb{R}$ s.t.\n",
        " $\\forall x, y, z \\in M$\n",
        " 1. $d(x, x) = 0$\n",
        " 2. if $x \\neq y$, $d(x, y) \\geq 0$\n",
        " 3. $d(x,y) = d(y, x)$\n",
        " 4. $d(x, z) \\leq d(x, y) + d(y, z)$"
      ],
      "metadata": {
        "id": "DO1Ls6n5PU1B"
      }
    },
    {
      "cell_type": "markdown",
      "source": [
        "### Linear Maps\n",
        "\n",
        "A mapping $f:X \\rightarrow Y$ is linear iff\n",
        "1. $f(ax) = af(x)$\n",
        "2. $f(x_1 + x_2) = f(x_1) + f(x_2)$"
      ],
      "metadata": {
        "id": "nE4hegmtM_JP"
      }
    },
    {
      "cell_type": "markdown",
      "source": [
        "### More Concepts\n",
        "1. [Field](https://en.wikipedia.org/wiki/Field_(mathematics))\n",
        "2. [Homomorphism](https://en.wikipedia.org/wiki/Homomorphism)\n",
        "3. [Isomorphism](https://en.wikipedia.org/wiki/Isomorphism)"
      ],
      "metadata": {
        "id": "S_V62JLTXkg4"
      }
    },
    {
      "cell_type": "markdown",
      "source": [
        "## Calculus"
      ],
      "metadata": {
        "id": "isIyDhkjYaNw"
      }
    },
    {
      "cell_type": "markdown",
      "source": [
        "### Chain Rule\n",
        "\n",
        "$$\n",
        "\\frac{\\partial f}{\\partial h} = \\frac{\\partial f}{\\partial g} \\frac{\\partial g}{\\partial h}\n",
        "$$"
      ],
      "metadata": {
        "id": "T3tX7lYQYeNq"
      }
    },
    {
      "cell_type": "markdown",
      "source": [
        "### Tensor Calculus"
      ],
      "metadata": {
        "id": "wXOaRmK4L9wF"
      }
    },
    {
      "cell_type": "markdown",
      "source": [
        "$$z_{[n\\times 1]} = W_{[n \\times m]}x_{[m \\times 1]}$$ \\\\\n",
        "$$ \\frac{\\partial z_i}{\\partial x_j} = w_{ij}$$\n",
        "$$ \\frac{\\partial z_i}{\\partial w_{jk}} = \\delta_{ij}x_{k}$$"
      ],
      "metadata": {
        "id": "a16votCpKU7k"
      }
    },
    {
      "cell_type": "markdown",
      "source": [
        "**What is the dimension of**\n",
        "$ \\frac{\\partial z_i}{\\partial w_{jk}}$ ?"
      ],
      "metadata": {
        "id": "Rszw9lclQd9W"
      }
    },
    {
      "cell_type": "markdown",
      "source": [
        "### More on Tensor Calculus:\n",
        "https://www.ita.uni-heidelberg.de/~dullemond/lectures/tensor/tensor.pdf\n"
      ],
      "metadata": {
        "id": "L3p3q4fLLtKx"
      }
    }
  ]
}