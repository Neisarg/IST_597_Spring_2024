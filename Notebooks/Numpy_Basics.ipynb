{
  "cells": [
    {
      "cell_type": "markdown",
      "id": "91f1a0a3-06bf-4006-8386-bbac3d9ea621",
      "metadata": {
        "tags": [],
        "id": "91f1a0a3-06bf-4006-8386-bbac3d9ea621"
      },
      "source": [
        "<h1><center>IST 597 Foundations of Deep Learning</center></h1>\n",
        "\n",
        "---\n",
        "\n",
        "<h2><center>Introduction to Numpy</center><h2>\n",
        "<h3><center>Neisarg Dave</center><h3>"
      ]
    },
    {
      "cell_type": "markdown",
      "source": [],
      "metadata": {
        "id": "DrlaBfkSAtA9"
      },
      "id": "DrlaBfkSAtA9"
    },
    {
      "cell_type": "code",
      "execution_count": null,
      "id": "3dfc66e5-cebe-4331-b26a-aeb425b4c992",
      "metadata": {
        "id": "3dfc66e5-cebe-4331-b26a-aeb425b4c992"
      },
      "outputs": [],
      "source": [
        "import numpy as np"
      ]
    },
    {
      "cell_type": "code",
      "source": [
        "# define a vector\n",
        "x = np.array([1, 2, 3])"
      ],
      "metadata": {
        "id": "pMODxysHpRMU"
      },
      "id": "pMODxysHpRMU",
      "execution_count": null,
      "outputs": []
    },
    {
      "cell_type": "code",
      "source": [
        "# define a matrix\n",
        "W = np.array([[3, 2, 4], [2, 4, 6], [2,3,5]])"
      ],
      "metadata": {
        "id": "pUT7wQSUpc6V"
      },
      "id": "pUT7wQSUpc6V",
      "execution_count": null,
      "outputs": []
    },
    {
      "cell_type": "code",
      "source": [
        "print(x)"
      ],
      "metadata": {
        "colab": {
          "base_uri": "https://localhost:8080/"
        },
        "id": "xdTmQ2ZEqCvF",
        "outputId": "bca52dc6-7705-4ee1-ec1e-a52719f035c8"
      },
      "id": "xdTmQ2ZEqCvF",
      "execution_count": null,
      "outputs": [
        {
          "output_type": "stream",
          "name": "stdout",
          "text": [
            "[1 2 3]\n"
          ]
        }
      ]
    },
    {
      "cell_type": "code",
      "source": [
        "print(W)"
      ],
      "metadata": {
        "colab": {
          "base_uri": "https://localhost:8080/"
        },
        "id": "FYTSq395qEmm",
        "outputId": "1bad02d6-c5ff-445d-caee-b84be68f8621"
      },
      "id": "FYTSq395qEmm",
      "execution_count": null,
      "outputs": [
        {
          "output_type": "stream",
          "name": "stdout",
          "text": [
            "[[3 2 4]\n",
            " [2 4 6]\n",
            " [2 3 5]]\n"
          ]
        }
      ]
    },
    {
      "cell_type": "code",
      "source": [
        "np.eye(4)"
      ],
      "metadata": {
        "colab": {
          "base_uri": "https://localhost:8080/"
        },
        "id": "dQswicX_9onB",
        "outputId": "79f18918-c20c-4349-eb69-98509c1681e0"
      },
      "id": "dQswicX_9onB",
      "execution_count": null,
      "outputs": [
        {
          "output_type": "execute_result",
          "data": {
            "text/plain": [
              "array([[1., 0., 0., 0.],\n",
              "       [0., 1., 0., 0.],\n",
              "       [0., 0., 1., 0.],\n",
              "       [0., 0., 0., 1.]])"
            ]
          },
          "metadata": {},
          "execution_count": 102
        }
      ]
    },
    {
      "cell_type": "code",
      "source": [
        "np.ones([4, 4])"
      ],
      "metadata": {
        "colab": {
          "base_uri": "https://localhost:8080/"
        },
        "id": "IqP-A2vQ9se2",
        "outputId": "375c0baa-408b-461a-a0af-2210c55cc056"
      },
      "id": "IqP-A2vQ9se2",
      "execution_count": null,
      "outputs": [
        {
          "output_type": "execute_result",
          "data": {
            "text/plain": [
              "array([[1., 1., 1., 1.],\n",
              "       [1., 1., 1., 1.],\n",
              "       [1., 1., 1., 1.],\n",
              "       [1., 1., 1., 1.]])"
            ]
          },
          "metadata": {},
          "execution_count": 103
        }
      ]
    },
    {
      "cell_type": "code",
      "source": [
        "np.zeros([3, 2])"
      ],
      "metadata": {
        "colab": {
          "base_uri": "https://localhost:8080/"
        },
        "id": "u3qlh4h69vfh",
        "outputId": "5835ee7a-aba8-4da7-8feb-026cd85a7152"
      },
      "id": "u3qlh4h69vfh",
      "execution_count": null,
      "outputs": [
        {
          "output_type": "execute_result",
          "data": {
            "text/plain": [
              "array([[0., 0.],\n",
              "       [0., 0.],\n",
              "       [0., 0.]])"
            ]
          },
          "metadata": {},
          "execution_count": 104
        }
      ]
    },
    {
      "cell_type": "code",
      "source": [
        "x = np.array([1, 2, 3])\n",
        "y = x = np.array([4, 5, 6])\n",
        "x+y\n"
      ],
      "metadata": {
        "colab": {
          "base_uri": "https://localhost:8080/"
        },
        "id": "JX2Fmu1QLtHE",
        "outputId": "08864497-3fcb-4bb7-afcd-00648785ee78"
      },
      "id": "JX2Fmu1QLtHE",
      "execution_count": null,
      "outputs": [
        {
          "output_type": "execute_result",
          "data": {
            "text/plain": [
              "array([ 8, 10, 12])"
            ]
          },
          "metadata": {},
          "execution_count": 105
        }
      ]
    },
    {
      "cell_type": "markdown",
      "source": [
        "## Random Sampling\n",
        "\n",
        "https://numpy.org/doc/stable/reference/random/index.html"
      ],
      "metadata": {
        "id": "h8urMwB995U2"
      },
      "id": "h8urMwB995U2"
    },
    {
      "cell_type": "code",
      "source": [
        "# start all experiments by first setting up seed for the random module\n",
        "np.random.seed(123)"
      ],
      "metadata": {
        "id": "WpwAxhpg4F7x"
      },
      "id": "WpwAxhpg4F7x",
      "execution_count": null,
      "outputs": []
    },
    {
      "cell_type": "code",
      "source": [
        "np.random.normal(loc = 0, scale = 0.1, size = [4,5])"
      ],
      "metadata": {
        "colab": {
          "base_uri": "https://localhost:8080/"
        },
        "id": "2ssMTqkx94Kq",
        "outputId": "98e748f8-c11c-46d0-fa4a-4f1193c3c17b"
      },
      "id": "2ssMTqkx94Kq",
      "execution_count": null,
      "outputs": [
        {
          "output_type": "execute_result",
          "data": {
            "text/plain": [
              "array([[ 1.71100066e-01, -7.13897917e-02, -6.46659157e-03,\n",
              "        -4.66150268e-02, -9.29033791e-03],\n",
              "       [ 6.34268038e-02,  5.50378536e-06, -2.03818404e-01,\n",
              "         4.06021670e-02,  8.78503211e-02],\n",
              "       [-4.43696132e-02,  1.18760653e-01,  7.12656174e-02,\n",
              "         1.19635026e-01, -1.77377777e-01],\n",
              "       [-3.35494347e-02, -6.17314021e-03, -4.02247704e-02,\n",
              "        -6.05331414e-02, -4.60792225e-02]])"
            ]
          },
          "metadata": {},
          "execution_count": 106
        }
      ]
    },
    {
      "cell_type": "code",
      "source": [
        "np.random.uniform(low=0.0, high=1.0, size=[4, 5])"
      ],
      "metadata": {
        "colab": {
          "base_uri": "https://localhost:8080/"
        },
        "id": "LO8ZnwyM-CWE",
        "outputId": "23bde0ed-d27c-4162-fb22-7a546fb78a83"
      },
      "id": "LO8ZnwyM-CWE",
      "execution_count": null,
      "outputs": [
        {
          "output_type": "execute_result",
          "data": {
            "text/plain": [
              "array([[0.8595226 , 0.81701471, 0.33343515, 0.64740154, 0.95565829],\n",
              "       [0.69681379, 0.22291312, 0.62081877, 0.73528893, 0.48313019],\n",
              "       [0.57497795, 0.99375089, 0.51159714, 0.58010534, 0.88460641],\n",
              "       [0.0457655 , 0.52702398, 0.3640302 , 0.43842958, 0.44845163]])"
            ]
          },
          "metadata": {},
          "execution_count": 107
        }
      ]
    },
    {
      "cell_type": "markdown",
      "source": [
        "## Indexing"
      ],
      "metadata": {
        "id": "tSmTIBGC62-V"
      },
      "id": "tSmTIBGC62-V"
    },
    {
      "cell_type": "code",
      "source": [
        "# create a tensor by randomly sampling items\n",
        "\n",
        "y = np.random.normal(0, 0.1, [3,4,5])\n",
        "print(y)\n",
        "print(y.shape)"
      ],
      "metadata": {
        "id": "hNRL_iTAqFm6",
        "colab": {
          "base_uri": "https://localhost:8080/"
        },
        "outputId": "56261300-9dec-473a-9fce-17a9845a0cba"
      },
      "id": "hNRL_iTAqFm6",
      "execution_count": null,
      "outputs": [
        {
          "output_type": "stream",
          "name": "stdout",
          "text": [
            "[[[-0.1711228   0.02658172 -0.28133497 -0.07690666  0.14109153]\n",
            "  [ 0.07561994  0.02231689  0.07465407  0.00640283 -0.00720211]\n",
            "  [ 0.12779761 -0.14025385 -0.02791568  0.02838797 -0.11175021]\n",
            "  [-0.06672808 -0.0316519  -0.00106215 -0.00253687  0.06810328]]\n",
            "\n",
            " [[-0.14520336  0.00808997 -0.08046729  0.15211824 -0.02468366]\n",
            "  [-0.06793306 -0.11030821  0.02172297 -0.09832053 -0.07435602]\n",
            "  [-0.02023335  0.13150962  0.13221402  0.14342164  0.10476505]\n",
            "  [-0.04510345 -0.12658497  0.0389062  -0.03009138  0.11048103]]\n",
            "\n",
            " [[-0.11126616  0.09568797 -0.03003255 -0.01422879  0.10955917]\n",
            "  [ 0.0273842   0.00092412 -0.12609214 -0.08776315 -0.00200487]\n",
            "  [ 0.046425    0.02760724  0.14665482 -0.13720168 -0.0077481 ]\n",
            "  [ 0.04715569  0.09977396 -0.01863996  0.09516067 -0.08685714]]]\n",
            "(3, 4, 5)\n"
          ]
        }
      ]
    },
    {
      "cell_type": "code",
      "source": [
        "print(y[0])"
      ],
      "metadata": {
        "colab": {
          "base_uri": "https://localhost:8080/"
        },
        "id": "55wftHE0uX2b",
        "outputId": "86ecb778-680e-49bb-f0f5-15d22eac897d"
      },
      "id": "55wftHE0uX2b",
      "execution_count": null,
      "outputs": [
        {
          "output_type": "stream",
          "name": "stdout",
          "text": [
            "[[-0.1711228   0.02658172 -0.28133497 -0.07690666  0.14109153]\n",
            " [ 0.07561994  0.02231689  0.07465407  0.00640283 -0.00720211]\n",
            " [ 0.12779761 -0.14025385 -0.02791568  0.02838797 -0.11175021]\n",
            " [-0.06672808 -0.0316519  -0.00106215 -0.00253687  0.06810328]]\n"
          ]
        }
      ]
    },
    {
      "cell_type": "code",
      "source": [
        "print(y[0, 1])"
      ],
      "metadata": {
        "colab": {
          "base_uri": "https://localhost:8080/"
        },
        "id": "cOSoknEYue9F",
        "outputId": "42d54c8b-8d01-4c2c-ce51-a43f38111ff3"
      },
      "id": "cOSoknEYue9F",
      "execution_count": null,
      "outputs": [
        {
          "output_type": "stream",
          "name": "stdout",
          "text": [
            "[ 0.07561994  0.02231689  0.07465407  0.00640283 -0.00720211]\n"
          ]
        }
      ]
    },
    {
      "cell_type": "code",
      "source": [
        "print(y[1, 1:-1])"
      ],
      "metadata": {
        "colab": {
          "base_uri": "https://localhost:8080/"
        },
        "id": "jHpD5K-7ujsH",
        "outputId": "22c3569f-13e6-48d2-cc49-6cc36ffef932"
      },
      "id": "jHpD5K-7ujsH",
      "execution_count": null,
      "outputs": [
        {
          "output_type": "stream",
          "name": "stdout",
          "text": [
            "[[-0.06793306 -0.11030821  0.02172297 -0.09832053 -0.07435602]\n",
            " [-0.02023335  0.13150962  0.13221402  0.14342164  0.10476505]]\n"
          ]
        }
      ]
    },
    {
      "cell_type": "code",
      "source": [
        "y[1, 1:-1] > 0"
      ],
      "metadata": {
        "colab": {
          "base_uri": "https://localhost:8080/"
        },
        "id": "Z_DmAxstB-FU",
        "outputId": "b02389d7-ee05-4441-9e02-0ae52a4adbe5"
      },
      "id": "Z_DmAxstB-FU",
      "execution_count": null,
      "outputs": [
        {
          "output_type": "execute_result",
          "data": {
            "text/plain": [
              "array([[False, False,  True, False, False],\n",
              "       [False,  True,  True,  True,  True]])"
            ]
          },
          "metadata": {},
          "execution_count": 112
        }
      ]
    },
    {
      "cell_type": "code",
      "source": [
        "y[1, 1:-1][y[1, 1:-1] > 0]"
      ],
      "metadata": {
        "colab": {
          "base_uri": "https://localhost:8080/"
        },
        "id": "Jo8BpfWbCFvG",
        "outputId": "ddf863ef-67be-4ed7-a7dd-a7deec25b4fb"
      },
      "id": "Jo8BpfWbCFvG",
      "execution_count": null,
      "outputs": [
        {
          "output_type": "execute_result",
          "data": {
            "text/plain": [
              "array([0.02172297, 0.13150962, 0.13221402, 0.14342164, 0.10476505])"
            ]
          },
          "metadata": {},
          "execution_count": 113
        }
      ]
    },
    {
      "cell_type": "markdown",
      "source": [
        "## View vs Copy"
      ],
      "metadata": {
        "id": "Mypfd6j0DM0o"
      },
      "id": "Mypfd6j0DM0o"
    },
    {
      "cell_type": "code",
      "source": [
        "# prompt: create an example of numpy indexing view vs copy of a vector\n",
        "\n",
        "a = np.random.normal(0, 0.1, [6])\n",
        "print(\"a : \", a)\n",
        "b = a[2:5]\n",
        "print(\"b : \", b)\n",
        "c = a[2:5].copy()\n",
        "print(\"c : \", c)\n",
        "a[2:5] = np.zeros([3])\n",
        "print(\"a : \", a)\n",
        "print(\"b : \", b)\n",
        "print(\"c : \",c)\n"
      ],
      "metadata": {
        "colab": {
          "base_uri": "https://localhost:8080/"
        },
        "id": "i4-LwNtbDQlp",
        "outputId": "33bdb482-5c6d-4304-b835-b8c6a9525eed"
      },
      "id": "i4-LwNtbDQlp",
      "execution_count": null,
      "outputs": [
        {
          "output_type": "stream",
          "name": "stdout",
          "text": [
            "a :  [ 0.05974935  0.03677886 -0.09612569  0.08053689  0.10143691  0.13594056]\n",
            "b :  [-0.09612569  0.08053689  0.10143691]\n",
            "c :  [-0.09612569  0.08053689  0.10143691]\n",
            "a :  [0.05974935 0.03677886 0.         0.         0.         0.13594056]\n",
            "b :  [0. 0. 0.]\n",
            "c :  [-0.09612569  0.08053689  0.10143691]\n"
          ]
        }
      ]
    },
    {
      "cell_type": "markdown",
      "source": [
        "## Broadcasting\n",
        "https://numpy.org/doc/stable/user/basics.broadcasting.html"
      ],
      "metadata": {
        "id": "QVRGGniAJXVn"
      },
      "id": "QVRGGniAJXVn"
    },
    {
      "cell_type": "code",
      "source": [
        "x = np.random.normal(0, 0.1, [5])\n",
        "print(x)"
      ],
      "metadata": {
        "colab": {
          "base_uri": "https://localhost:8080/"
        },
        "id": "gbSrmuvJJpxR",
        "outputId": "31da1621-c331-40e1-92a8-b44d4463f958"
      },
      "id": "gbSrmuvJJpxR",
      "execution_count": null,
      "outputs": [
        {
          "output_type": "stream",
          "name": "stdout",
          "text": [
            "[ 0.1101677   0.09709929  0.07155361 -0.00952823 -0.05373875]\n"
          ]
        }
      ]
    },
    {
      "cell_type": "code",
      "source": [
        "np.broadcast_to(x, [3, 5])\n"
      ],
      "metadata": {
        "colab": {
          "base_uri": "https://localhost:8080/"
        },
        "id": "hIPKwGnuJ8yd",
        "outputId": "aa65760d-1e04-4682-b53f-7d3ff8838a63"
      },
      "id": "hIPKwGnuJ8yd",
      "execution_count": null,
      "outputs": [
        {
          "output_type": "execute_result",
          "data": {
            "text/plain": [
              "array([[ 0.1101677 ,  0.09709929,  0.07155361, -0.00952823, -0.05373875],\n",
              "       [ 0.1101677 ,  0.09709929,  0.07155361, -0.00952823, -0.05373875],\n",
              "       [ 0.1101677 ,  0.09709929,  0.07155361, -0.00952823, -0.05373875]])"
            ]
          },
          "metadata": {},
          "execution_count": 115
        }
      ]
    },
    {
      "cell_type": "code",
      "source": [
        "np.broadcast_to(np.expand_dims(x, axis = 1), [5, 3])"
      ],
      "metadata": {
        "colab": {
          "base_uri": "https://localhost:8080/"
        },
        "id": "g6LOmf5NLVGr",
        "outputId": "79d12c9e-37e7-422d-8f53-e26e14c2623d"
      },
      "id": "g6LOmf5NLVGr",
      "execution_count": null,
      "outputs": [
        {
          "output_type": "execute_result",
          "data": {
            "text/plain": [
              "array([[ 0.1101677 ,  0.1101677 ,  0.1101677 ],\n",
              "       [ 0.09709929,  0.09709929,  0.09709929],\n",
              "       [ 0.07155361,  0.07155361,  0.07155361],\n",
              "       [-0.00952823, -0.00952823, -0.00952823],\n",
              "       [-0.05373875, -0.05373875, -0.05373875]])"
            ]
          },
          "metadata": {},
          "execution_count": 116
        }
      ]
    },
    {
      "cell_type": "markdown",
      "source": [
        "## Stacking Tensors"
      ],
      "metadata": {
        "id": "Yq6q2MmY6fu-"
      },
      "id": "Yq6q2MmY6fu-"
    },
    {
      "cell_type": "code",
      "source": [
        "# create a list of 10 vectors\n",
        "\n",
        "a = [np.random.randint(0, 9, size=[20]) for i in range(10)]\n",
        "print(a)\n"
      ],
      "metadata": {
        "colab": {
          "base_uri": "https://localhost:8080/"
        },
        "id": "-HIJoxwVqqem",
        "outputId": "a9a8408f-75a8-48f7-9257-3a52db7962b0"
      },
      "id": "-HIJoxwVqqem",
      "execution_count": null,
      "outputs": [
        {
          "output_type": "stream",
          "name": "stdout",
          "text": [
            "[array([7, 8, 1, 1, 4, 1, 0, 5, 8, 7, 5, 6, 0, 3, 6, 2, 0, 6, 0, 7]), array([3, 7, 4, 6, 2, 7, 3, 6, 1, 4, 4, 3, 3, 7, 0, 7, 7, 7, 6, 3]), array([5, 2, 3, 6, 5, 1, 5, 7, 6, 0, 7, 2, 8, 4, 3, 4, 4, 5, 3, 0]), array([5, 1, 2, 3, 6, 7, 6, 4, 1, 4, 0, 6, 1, 7, 0, 8, 8, 8, 6, 5]), array([0, 4, 6, 5, 6, 8, 2, 4, 3, 1, 0, 4, 0, 3, 6, 8, 5, 1, 5, 5]), array([4, 8, 7, 5, 3, 6, 4, 8, 1, 8, 1, 2, 3, 6, 8, 4, 1, 7, 5, 7]), array([0, 4, 1, 3, 5, 3, 8, 1, 3, 4, 0, 0, 7, 1, 2, 2, 0, 0, 4, 3]), array([8, 8, 8, 3, 6, 4, 7, 4, 2, 8, 5, 2, 4, 2, 8, 0, 7, 7, 5, 4]), array([8, 0, 6, 5, 3, 6, 1, 0, 3, 2, 7, 6, 5, 5, 0, 8, 4, 7, 0, 2]), array([6, 1, 1, 6, 3, 1, 0, 0, 5, 2, 5, 0, 8, 3, 1, 6, 8, 1, 1, 7])]\n"
          ]
        }
      ]
    },
    {
      "cell_type": "code",
      "source": [
        "print(len(a), a[0].shape)"
      ],
      "metadata": {
        "colab": {
          "base_uri": "https://localhost:8080/"
        },
        "id": "URa9XsicrRAX",
        "outputId": "44bccc90-b354-4f37-a3ce-b1ad07a73add"
      },
      "id": "URa9XsicrRAX",
      "execution_count": null,
      "outputs": [
        {
          "output_type": "stream",
          "name": "stdout",
          "text": [
            "10 (20,)\n"
          ]
        }
      ]
    },
    {
      "cell_type": "code",
      "source": [
        "# stack vectors in list\n",
        "stacked_0 = np.stack(a, axis=0)\n",
        "print(stacked_0)\n",
        "print(stacked_0.shape)"
      ],
      "metadata": {
        "colab": {
          "base_uri": "https://localhost:8080/"
        },
        "id": "_zv1WdFBr-kI",
        "outputId": "195646ee-71dd-44ec-fd0a-efa9def741f3"
      },
      "id": "_zv1WdFBr-kI",
      "execution_count": null,
      "outputs": [
        {
          "output_type": "stream",
          "name": "stdout",
          "text": [
            "[[7 8 1 1 4 1 0 5 8 7 5 6 0 3 6 2 0 6 0 7]\n",
            " [3 7 4 6 2 7 3 6 1 4 4 3 3 7 0 7 7 7 6 3]\n",
            " [5 2 3 6 5 1 5 7 6 0 7 2 8 4 3 4 4 5 3 0]\n",
            " [5 1 2 3 6 7 6 4 1 4 0 6 1 7 0 8 8 8 6 5]\n",
            " [0 4 6 5 6 8 2 4 3 1 0 4 0 3 6 8 5 1 5 5]\n",
            " [4 8 7 5 3 6 4 8 1 8 1 2 3 6 8 4 1 7 5 7]\n",
            " [0 4 1 3 5 3 8 1 3 4 0 0 7 1 2 2 0 0 4 3]\n",
            " [8 8 8 3 6 4 7 4 2 8 5 2 4 2 8 0 7 7 5 4]\n",
            " [8 0 6 5 3 6 1 0 3 2 7 6 5 5 0 8 4 7 0 2]\n",
            " [6 1 1 6 3 1 0 0 5 2 5 0 8 3 1 6 8 1 1 7]]\n",
            "(10, 20)\n"
          ]
        }
      ]
    },
    {
      "cell_type": "code",
      "source": [
        "stacked_1 = np.stack(a, axis=1)\n",
        "print(stacked_1)\n",
        "print(stacked_1.shape)"
      ],
      "metadata": {
        "colab": {
          "base_uri": "https://localhost:8080/"
        },
        "id": "tIY4j143tYpJ",
        "outputId": "f93deb78-84f3-43c8-c2b9-c134d35f0bd6"
      },
      "id": "tIY4j143tYpJ",
      "execution_count": null,
      "outputs": [
        {
          "output_type": "stream",
          "name": "stdout",
          "text": [
            "[[7 3 5 5 0 4 0 8 8 6]\n",
            " [8 7 2 1 4 8 4 8 0 1]\n",
            " [1 4 3 2 6 7 1 8 6 1]\n",
            " [1 6 6 3 5 5 3 3 5 6]\n",
            " [4 2 5 6 6 3 5 6 3 3]\n",
            " [1 7 1 7 8 6 3 4 6 1]\n",
            " [0 3 5 6 2 4 8 7 1 0]\n",
            " [5 6 7 4 4 8 1 4 0 0]\n",
            " [8 1 6 1 3 1 3 2 3 5]\n",
            " [7 4 0 4 1 8 4 8 2 2]\n",
            " [5 4 7 0 0 1 0 5 7 5]\n",
            " [6 3 2 6 4 2 0 2 6 0]\n",
            " [0 3 8 1 0 3 7 4 5 8]\n",
            " [3 7 4 7 3 6 1 2 5 3]\n",
            " [6 0 3 0 6 8 2 8 0 1]\n",
            " [2 7 4 8 8 4 2 0 8 6]\n",
            " [0 7 4 8 5 1 0 7 4 8]\n",
            " [6 7 5 8 1 7 0 7 7 1]\n",
            " [0 6 3 6 5 5 4 5 0 1]\n",
            " [7 3 0 5 5 7 3 4 2 7]]\n",
            "(20, 10)\n"
          ]
        }
      ]
    },
    {
      "cell_type": "code",
      "source": [
        "print(stacked_1.transpose())"
      ],
      "metadata": {
        "colab": {
          "base_uri": "https://localhost:8080/"
        },
        "id": "2FCLvCOEtcik",
        "outputId": "e3d7cd8d-0463-49a7-caa4-f1537ac293b7"
      },
      "id": "2FCLvCOEtcik",
      "execution_count": null,
      "outputs": [
        {
          "output_type": "stream",
          "name": "stdout",
          "text": [
            "[[7 8 1 1 4 1 0 5 8 7 5 6 0 3 6 2 0 6 0 7]\n",
            " [3 7 4 6 2 7 3 6 1 4 4 3 3 7 0 7 7 7 6 3]\n",
            " [5 2 3 6 5 1 5 7 6 0 7 2 8 4 3 4 4 5 3 0]\n",
            " [5 1 2 3 6 7 6 4 1 4 0 6 1 7 0 8 8 8 6 5]\n",
            " [0 4 6 5 6 8 2 4 3 1 0 4 0 3 6 8 5 1 5 5]\n",
            " [4 8 7 5 3 6 4 8 1 8 1 2 3 6 8 4 1 7 5 7]\n",
            " [0 4 1 3 5 3 8 1 3 4 0 0 7 1 2 2 0 0 4 3]\n",
            " [8 8 8 3 6 4 7 4 2 8 5 2 4 2 8 0 7 7 5 4]\n",
            " [8 0 6 5 3 6 1 0 3 2 7 6 5 5 0 8 4 7 0 2]\n",
            " [6 1 1 6 3 1 0 0 5 2 5 0 8 3 1 6 8 1 1 7]]\n"
          ]
        }
      ]
    },
    {
      "cell_type": "code",
      "source": [
        "stacked_1.transpose() == stacked_0"
      ],
      "metadata": {
        "colab": {
          "base_uri": "https://localhost:8080/"
        },
        "id": "0rby2YuSt-_a",
        "outputId": "f3d1e73b-d15c-4bf3-af0b-5ba446e27b5c"
      },
      "id": "0rby2YuSt-_a",
      "execution_count": null,
      "outputs": [
        {
          "output_type": "execute_result",
          "data": {
            "text/plain": [
              "array([[ True,  True,  True,  True,  True,  True,  True,  True,  True,\n",
              "         True,  True,  True,  True,  True,  True,  True,  True,  True,\n",
              "         True,  True],\n",
              "       [ True,  True,  True,  True,  True,  True,  True,  True,  True,\n",
              "         True,  True,  True,  True,  True,  True,  True,  True,  True,\n",
              "         True,  True],\n",
              "       [ True,  True,  True,  True,  True,  True,  True,  True,  True,\n",
              "         True,  True,  True,  True,  True,  True,  True,  True,  True,\n",
              "         True,  True],\n",
              "       [ True,  True,  True,  True,  True,  True,  True,  True,  True,\n",
              "         True,  True,  True,  True,  True,  True,  True,  True,  True,\n",
              "         True,  True],\n",
              "       [ True,  True,  True,  True,  True,  True,  True,  True,  True,\n",
              "         True,  True,  True,  True,  True,  True,  True,  True,  True,\n",
              "         True,  True],\n",
              "       [ True,  True,  True,  True,  True,  True,  True,  True,  True,\n",
              "         True,  True,  True,  True,  True,  True,  True,  True,  True,\n",
              "         True,  True],\n",
              "       [ True,  True,  True,  True,  True,  True,  True,  True,  True,\n",
              "         True,  True,  True,  True,  True,  True,  True,  True,  True,\n",
              "         True,  True],\n",
              "       [ True,  True,  True,  True,  True,  True,  True,  True,  True,\n",
              "         True,  True,  True,  True,  True,  True,  True,  True,  True,\n",
              "         True,  True],\n",
              "       [ True,  True,  True,  True,  True,  True,  True,  True,  True,\n",
              "         True,  True,  True,  True,  True,  True,  True,  True,  True,\n",
              "         True,  True],\n",
              "       [ True,  True,  True,  True,  True,  True,  True,  True,  True,\n",
              "         True,  True,  True,  True,  True,  True,  True,  True,  True,\n",
              "         True,  True]])"
            ]
          },
          "metadata": {},
          "execution_count": 122
        }
      ]
    },
    {
      "cell_type": "markdown",
      "source": [
        "## Matrix Multiplication"
      ],
      "metadata": {
        "id": "aAsETtsO6nhM"
      },
      "id": "aAsETtsO6nhM"
    },
    {
      "cell_type": "code",
      "source": [
        "x = np.arange(10)\n",
        "W = np.random.normal(0, 0.1, size = [6, 10])\n",
        "print(x)\n",
        "print(x.shape, W.shape)"
      ],
      "metadata": {
        "colab": {
          "base_uri": "https://localhost:8080/"
        },
        "id": "WyS2-eJruMrL",
        "outputId": "82b9cb8b-d633-41fe-c2f7-e3ec61577eb8"
      },
      "id": "WyS2-eJruMrL",
      "execution_count": null,
      "outputs": [
        {
          "output_type": "stream",
          "name": "stdout",
          "text": [
            "[0 1 2 3 4 5 6 7 8 9]\n",
            "(10,) (6, 10)\n"
          ]
        }
      ]
    },
    {
      "cell_type": "code",
      "source": [
        "# matrix multiplication\n",
        "y = np.matmul(W, x)\n",
        "print(y.shape)\n",
        "print(y)"
      ],
      "metadata": {
        "colab": {
          "base_uri": "https://localhost:8080/"
        },
        "id": "hVBVFZvPwMbq",
        "outputId": "446b0279-fddd-46a7-f83c-a5a9691269f3"
      },
      "id": "hVBVFZvPwMbq",
      "execution_count": null,
      "outputs": [
        {
          "output_type": "stream",
          "name": "stdout",
          "text": [
            "(6,)\n",
            "[ 0.1474395   1.42386554  0.55114759 -1.03611098 -0.42683544  0.93016041]\n"
          ]
        }
      ]
    },
    {
      "cell_type": "code",
      "source": [
        "W@x"
      ],
      "metadata": {
        "colab": {
          "base_uri": "https://localhost:8080/"
        },
        "id": "YseGKLJSCcYG",
        "outputId": "06b2ed38-7782-491a-a104-58d26e23168a"
      },
      "id": "YseGKLJSCcYG",
      "execution_count": null,
      "outputs": [
        {
          "output_type": "execute_result",
          "data": {
            "text/plain": [
              "array([ 0.1474395 ,  1.42386554,  0.55114759, -1.03611098, -0.42683544,\n",
              "        0.93016041])"
            ]
          },
          "metadata": {},
          "execution_count": 125
        }
      ]
    },
    {
      "cell_type": "markdown",
      "source": [
        "## Hadarmard Product\n",
        "\n",
        "$A_{nxn} \\circ B_{nxn} = \\begin{bmatrix} a_{11}b_{11} & . . .&  a_{1n}b_{1n} \\\\ . & . & . \\\\ . & . & . \\\\ . & . & .\\\\ a_{n1}b_{n1} & . . .&  a_{nn}b_{nn} \\end{bmatrix}$"
      ],
      "metadata": {
        "id": "7oKhXzny4cZ6"
      },
      "id": "7oKhXzny4cZ6"
    },
    {
      "cell_type": "code",
      "source": [
        "# Hadamard Product : Element Wise Product\n",
        "z = W*x\n",
        "print(z.shape)\n",
        "print(z)"
      ],
      "metadata": {
        "colab": {
          "base_uri": "https://localhost:8080/"
        },
        "id": "Y7Ha5phqwSEO",
        "outputId": "fcdd8a75-3f52-483b-9ce0-c9d570eb97bf"
      },
      "id": "Y7Ha5phqwSEO",
      "execution_count": null,
      "outputs": [
        {
          "output_type": "stream",
          "name": "stdout",
          "text": [
            "(6, 10)\n",
            "[[-0.         -0.0905144   0.09686381 -0.20284199  0.25378898  0.42639489\n",
            "  -0.14209557 -0.14824524 -0.17333994  0.12742897]\n",
            " [-0.          0.01775192  0.33593307  0.42135623 -0.06126095  0.19335163\n",
            "   0.4927573  -0.00936042 -0.39986956  0.43320632]\n",
            " [ 0.         -0.07600614  0.06514463  0.04327504  0.20507962  0.12620651\n",
            "  -0.09110344 -0.13177267  0.16242659  0.24789746]\n",
            " [-0.         -0.01223712  0.22394613  0.06200381  0.4217346  -0.81341281\n",
            "  -0.01369837 -0.06585219 -0.24355032 -0.59504471]\n",
            " [ 0.          0.01721931 -0.06860145  0.47637832 -0.50808232 -0.07780407\n",
            "  -0.01412052 -0.1273083  -0.28239878  0.15788238]\n",
            " [ 0.         -0.07853917  0.11581434 -0.18225228  0.25438999  0.75545718\n",
            "   0.01675896 -0.46197738 -0.4859525   0.99646126]]\n"
          ]
        }
      ]
    },
    {
      "cell_type": "markdown",
      "source": [
        "## Outer Product\n",
        "\n",
        "$A_{n} \\times B_{m} \\rightarrow C_{n \\times m} = \\begin{bmatrix} a_{1}b_{1} & . . .&  a_{1}b_{m} \\\\ . & . & . \\\\ . & . & . \\\\ . & . & .\\\\ a_{n}b_{1} & . . .&  a_{n}b_{m} \\end{bmatrix}$"
      ],
      "metadata": {
        "id": "qlJY3BHg6akZ"
      },
      "id": "qlJY3BHg6akZ"
    },
    {
      "cell_type": "code",
      "source": [
        "a = np.random.normal(0, 0.1, size = [3])\n",
        "b = np.random.normal(0, 0.1, size = [4])\n",
        "print(a, b)"
      ],
      "metadata": {
        "colab": {
          "base_uri": "https://localhost:8080/"
        },
        "id": "2DNoxUItC97q",
        "outputId": "cce1500c-ab65-45ae-efa2-7aca9212ee3a"
      },
      "id": "2DNoxUItC97q",
      "execution_count": null,
      "outputs": [
        {
          "output_type": "stream",
          "name": "stdout",
          "text": [
            "[-0.0796339  -0.18094367  0.06282214] [-0.09136802 -0.07349466 -0.11816917 -0.17651062]\n"
          ]
        }
      ]
    },
    {
      "cell_type": "code",
      "source": [
        "op = np.outer(a, b)\n",
        "print(op, op.shape)"
      ],
      "metadata": {
        "colab": {
          "base_uri": "https://localhost:8080/"
        },
        "id": "B6kbKOJgEDVw",
        "outputId": "ead9afb1-afcc-41e3-9691-ff7b314f18a9"
      },
      "id": "B6kbKOJgEDVw",
      "execution_count": null,
      "outputs": [
        {
          "output_type": "stream",
          "name": "stdout",
          "text": [
            "[[ 0.00727599  0.00585267  0.00941027  0.01405623]\n",
            " [ 0.01653246  0.01329839  0.02138196  0.03193848]\n",
            " [-0.00573993 -0.00461709 -0.00742364 -0.01108878]] (3, 4)\n"
          ]
        }
      ]
    },
    {
      "cell_type": "markdown",
      "source": [
        "More on tensor operations : https://numpy.org/doc/stable/reference/routines.linalg.html"
      ],
      "metadata": {
        "id": "A9SbDu5iDt41"
      },
      "id": "A9SbDu5iDt41"
    },
    {
      "cell_type": "markdown",
      "source": [
        "## Tensor Product\n",
        "\n",
        "Wxh = $\\sum_{j,k}W_{ijk}x_{j}h_{k}$"
      ],
      "metadata": {
        "id": "ndi_oJu-8BLC"
      },
      "id": "ndi_oJu-8BLC"
    },
    {
      "cell_type": "code",
      "source": [
        "W = np.random.normal(0, 0.1, size=[3, 4, 5])\n",
        "x = np.random.normal(0, 0.1, size=[4])\n",
        "h = np.random.normal(0, 0.1, size=[5])\n",
        "print(W.shape, x.shape, h.shape)\n",
        "print(W@h@x)\n",
        "print(np.einsum('ijk,j,k->i', W, x, h))\n"
      ],
      "metadata": {
        "colab": {
          "base_uri": "https://localhost:8080/"
        },
        "id": "rYOudCR68AiB",
        "outputId": "5f9620a3-6407-4207-9d0b-87c9c580a819"
      },
      "id": "rYOudCR68AiB",
      "execution_count": null,
      "outputs": [
        {
          "output_type": "stream",
          "name": "stdout",
          "text": [
            "(3, 4, 5) (4,) (5,)\n",
            "[ 0.00711524  0.00110071 -0.00167313]\n",
            "[ 0.00711524  0.00110071 -0.00167313]\n"
          ]
        }
      ]
    },
    {
      "cell_type": "markdown",
      "source": [
        "## Mathematical functions in numpy\n",
        "\n",
        "https://numpy.org/doc/stable/reference/routines.math.html"
      ],
      "metadata": {
        "id": "1C4qSEpx3NpE"
      },
      "id": "1C4qSEpx3NpE"
    },
    {
      "cell_type": "code",
      "source": [
        "x = np.random.uniform(0, 5, size = [10])\n",
        "print(x)"
      ],
      "metadata": {
        "colab": {
          "base_uri": "https://localhost:8080/"
        },
        "id": "kPNuOOA23W_3",
        "outputId": "d25c81b8-da5a-41ce-bb12-8787a8020e27"
      },
      "id": "kPNuOOA23W_3",
      "execution_count": null,
      "outputs": [
        {
          "output_type": "stream",
          "name": "stdout",
          "text": [
            "[4.86557672 3.12837869 3.31259291 0.72247688 4.57832637 0.69903048\n",
            " 1.3213681  4.88442749 2.30520914 3.24446875]\n"
          ]
        }
      ]
    },
    {
      "cell_type": "code",
      "source": [
        "np.sin(x)"
      ],
      "metadata": {
        "colab": {
          "base_uri": "https://localhost:8080/"
        },
        "id": "iMnTmEKuGfbl",
        "outputId": "3bbf01e0-6251-40a7-9ceb-812b73311089"
      },
      "id": "iMnTmEKuGfbl",
      "execution_count": null,
      "outputs": [
        {
          "output_type": "execute_result",
          "data": {
            "text/plain": [
              "array([-0.98828969,  0.01321358, -0.17016811,  0.66124478, -0.99102706,\n",
              "        0.64347585,  0.96905372, -0.98523784,  0.74222438, -0.10269473])"
            ]
          },
          "metadata": {},
          "execution_count": 137
        }
      ]
    },
    {
      "cell_type": "code",
      "source": [
        "np.tanh(x)"
      ],
      "metadata": {
        "colab": {
          "base_uri": "https://localhost:8080/"
        },
        "id": "kvLHHxGLGy7O",
        "outputId": "2a04930f-2b10-4b55-a386-78a51744956b"
      },
      "id": "kvLHHxGLGy7O",
      "execution_count": null,
      "outputs": [
        {
          "output_type": "execute_result",
          "data": {
            "text/plain": [
              "array([0.9998812 , 0.99617243, 0.99735045, 0.61844119, 0.99978899,\n",
              "       0.60375202, 0.86712375, 0.99988559, 0.98030065, 0.99696429])"
            ]
          },
          "metadata": {},
          "execution_count": 138
        }
      ]
    },
    {
      "cell_type": "code",
      "source": [
        "np.round(x, 2)"
      ],
      "metadata": {
        "colab": {
          "base_uri": "https://localhost:8080/"
        },
        "id": "f6VS2U8qG6DV",
        "outputId": "e100bad3-965f-45ad-fc0b-921c23ed24e3"
      },
      "id": "f6VS2U8qG6DV",
      "execution_count": null,
      "outputs": [
        {
          "output_type": "execute_result",
          "data": {
            "text/plain": [
              "array([4.87, 3.13, 3.31, 0.72, 4.58, 0.7 , 1.32, 4.88, 2.31, 3.24])"
            ]
          },
          "metadata": {},
          "execution_count": 139
        }
      ]
    },
    {
      "cell_type": "code",
      "source": [
        "np.prod(x)"
      ],
      "metadata": {
        "colab": {
          "base_uri": "https://localhost:8080/"
        },
        "id": "6JCRrHLGHezD",
        "outputId": "76988aeb-ab04-40bd-93a8-142de963b65b"
      },
      "id": "6JCRrHLGHezD",
      "execution_count": null,
      "outputs": [
        {
          "output_type": "execute_result",
          "data": {
            "text/plain": [
              "5627.816621899943"
            ]
          },
          "metadata": {},
          "execution_count": 140
        }
      ]
    },
    {
      "cell_type": "code",
      "source": [
        "np.sum(x), np.mean(x), np.std(x)"
      ],
      "metadata": {
        "colab": {
          "base_uri": "https://localhost:8080/"
        },
        "id": "v2zpA50LHnG6",
        "outputId": "2d0cbcbf-560c-4042-fb4d-0c3498ef99de"
      },
      "id": "v2zpA50LHnG6",
      "execution_count": null,
      "outputs": [
        {
          "output_type": "execute_result",
          "data": {
            "text/plain": [
              "(-0.24023265934937763, -0.060058164837344406, 0.05378763473997691)"
            ]
          },
          "metadata": {},
          "execution_count": 5
        }
      ]
    },
    {
      "cell_type": "code",
      "source": [
        "np.log(x)"
      ],
      "metadata": {
        "colab": {
          "base_uri": "https://localhost:8080/"
        },
        "id": "HVoXPl-pHzx8",
        "outputId": "c6d6baaa-2501-4996-ded9-51aec2dab9fa"
      },
      "id": "HVoXPl-pHzx8",
      "execution_count": null,
      "outputs": [
        {
          "output_type": "execute_result",
          "data": {
            "text/plain": [
              "array([ 1.58218525,  1.14051488,  1.19773124, -0.32506987,  1.52133351,\n",
              "       -0.35806094,  0.27866764,  1.58605208,  0.83517141,  1.17695162])"
            ]
          },
          "metadata": {},
          "execution_count": 142
        }
      ]
    },
    {
      "cell_type": "code",
      "source": [
        "np.log10(x)"
      ],
      "metadata": {
        "colab": {
          "base_uri": "https://localhost:8080/"
        },
        "id": "7E_8pEvaH_Kt",
        "outputId": "c1e91991-514f-4d05-e1ff-28fadf799007"
      },
      "id": "7E_8pEvaH_Kt",
      "execution_count": null,
      "outputs": [
        {
          "output_type": "execute_result",
          "data": {
            "text/plain": [
              "array([ 0.68713432,  0.49531932,  0.52016807, -0.14117605,  0.66070675,\n",
              "       -0.15550389,  0.12102382,  0.68881367,  0.36271033,  0.5111436 ])"
            ]
          },
          "metadata": {},
          "execution_count": 143
        }
      ]
    },
    {
      "cell_type": "code",
      "source": [
        "np.log2(x)"
      ],
      "metadata": {
        "colab": {
          "base_uri": "https://localhost:8080/"
        },
        "id": "w0Vv88QRIBDP",
        "outputId": "e499a811-cc49-4614-ad8e-d0a48959558f"
      },
      "id": "w0Vv88QRIBDP",
      "execution_count": null,
      "outputs": [
        {
          "output_type": "execute_result",
          "data": {
            "text/plain": [
              "array([ 2.28261082,  1.64541516,  1.72796092, -0.46897668,  2.19482031,\n",
              "       -0.51657274,  0.40203243,  2.28818947,  1.20489765,  1.69798227])"
            ]
          },
          "metadata": {},
          "execution_count": 144
        }
      ]
    },
    {
      "cell_type": "code",
      "source": [
        "np.exp(x)"
      ],
      "metadata": {
        "colab": {
          "base_uri": "https://localhost:8080/"
        },
        "id": "g6U8fztLICpL",
        "outputId": "842ac16b-507b-4e17-f061-dce1b6ad6f93"
      },
      "id": "g6U8fztLICpL",
      "execution_count": null,
      "outputs": [
        {
          "output_type": "execute_result",
          "data": {
            "text/plain": [
              "array([129.74574405,  22.83692383,  27.45622489,   2.05952809,\n",
              "        97.35132746,   2.01180127,   3.74854627, 132.21474973,\n",
              "        10.02627494,  25.64808097])"
            ]
          },
          "metadata": {},
          "execution_count": 145
        }
      ]
    }
  ],
  "metadata": {
    "kernelspec": {
      "display_name": "Python 3 (ipykernel)",
      "language": "python",
      "name": "python3"
    },
    "language_info": {
      "codemirror_mode": {
        "name": "ipython",
        "version": 3
      },
      "file_extension": ".py",
      "mimetype": "text/x-python",
      "name": "python",
      "nbconvert_exporter": "python",
      "pygments_lexer": "ipython3",
      "version": "3.9.13"
    },
    "colab": {
      "provenance": []
    }
  },
  "nbformat": 4,
  "nbformat_minor": 5
}